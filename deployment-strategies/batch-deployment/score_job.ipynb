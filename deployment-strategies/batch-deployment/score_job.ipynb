{
 "cells": [
  {
   "cell_type": "code",
   "execution_count": 2,
   "metadata": {},
   "outputs": [],
   "source": [
    "import os\n",
    "import uuid\n",
    "import pickle\n",
    "\n",
    "import pandas as pd\n",
    "\n",
    "import mlflow\n",
    "\n",
    "from sklearn.feature_extraction import DictVectorizer\n",
    "from sklearn.ensemble import RandomForestRegressor\n",
    "from sklearn.metrics import mean_squared_error\n",
    "from sklearn.pipeline import make_pipeline"
   ]
  },
  {
   "cell_type": "code",
   "execution_count": 13,
   "metadata": {},
   "outputs": [],
   "source": [
    "year = 2021\n",
    "month = 2\n",
    "taxi_type = \"green\"\n",
    "\n",
    "input_file = f\"\"\n",
    "model = \"../../notebooks/models/lin_reg.bin\"\n",
    "output_file = f\"output/{taxi_type}/{year:04d}-{month:02d}.parquet\""
   ]
  },
  {
   "cell_type": "code",
   "execution_count": 14,
   "metadata": {},
   "outputs": [],
   "source": [
    "def generate_uuids(n):\n",
    "    ride_ids = [str(uuid.uuid4()) for ride_id in range(n)]\n",
    "    return ride_ids\n",
    "\n",
    "def read_dataframe(filename: str):\n",
    "    df = pd.read_parquet(filename)\n",
    "\n",
    "    df['duration'] = df.lpep_dropoff_datetime - df.lpep_pickup_datetime\n",
    "    df.duration = df.duration.dt.total_seconds() / 60\n",
    "    df = df[(df.duration >= 1) & (df.duration <= 60)]\n",
    "    return df\n",
    "\n",
    "def prepare_dictionaries(df: pd.DataFrame):\n",
    "    categorical = ['PULocationID', 'DOLocationID']\n",
    "    df[categorical] = df[categorical].astype(str)\n",
    "\n",
    "    df['PU_DO'] = df['PULocationID'] + '_' + df['DOLocationID']\n",
    "\n",
    "    categorical = ['PU_DO']\n",
    "    numerical = ['trip_distance']\n",
    "    dicts = df[categorical + numerical].to_dict(orient='records')\n",
    "    return dicts"
   ]
  },
  {
   "cell_type": "code",
   "execution_count": 12,
   "metadata": {},
   "outputs": [],
   "source": [
    "def apply_model(input_file, model, output_file):\n",
    "\n",
    "    df = read_dataframe(input_file)\n",
    "    dicts = prepare_dictionaries(df)\n",
    "\n",
    "    y_pred = model.predict(dicts)\n",
    "\n",
    "    df_result = pd.DataFrame()\n",
    "    df_result['ride_id'] = df['ride_id']\n",
    "    df_result['lpep_pickup_datetime'] = df['lpep_pickup_datetime']\n",
    "    df_result['PULocationID'] = df['PULocationID']\n",
    "    df_result['DOLocationID'] = df['DOLocationID']\n",
    "    df_result['actual_duration'] = df['duration'] \n",
    "    df_result['predicted_duration'] = y_pred\n",
    "    df_result['diff'] = df_result['actual_duration'] - df_result['predicted_duration']   \n",
    "    df_result['model_version'] = 'Version:1'\n",
    "\n",
    "    df_result.to_parquet(output_file, index=False)"
   ]
  },
  {
   "cell_type": "code",
   "execution_count": 9,
   "metadata": {},
   "outputs": [
    {
     "name": "stdout",
     "output_type": "stream",
     "text": [
      "['004e27de-a3fe-40eb-808a-279d7c2ac1f1', 'cbda0903-f12a-482a-b762-e3bfeac40ef5', 'c286ad94-d838-480a-8bdf-45e5929bd4cc', 'c627611d-f5d4-4fa0-bbfd-ab047102fc58', '8a1fe1ce-151b-4df6-a885-484350bd2bcc', 'c0aeb13f-1606-4bb1-8718-d8d02a56af77', 'dc693e13-6f25-4552-8264-d6f91fe9430b', '80d6a397-72ec-4c5a-a294-e8da5b55198e', '527a5f02-d7c2-4099-b260-94ff9e719159', '4148dd97-da9a-4c09-b556-fc4d726e2dd4', 'd0a3bb06-81e5-4db4-9e60-0e3151da8d0e', '00b777a4-988e-4c70-aef1-30240d6c29e3', 'd8c9473a-301a-4f72-9480-a1f77c821518', '2abc53df-46dd-4e3b-b696-bb6807d2468f', '14c811d5-c016-4d89-a8f4-7639e6ecb971', '0a38a1ce-fc62-477d-9d18-bf28a09d1e41', '60bc11d0-8887-423f-9e2e-c38fd0aefffa', '12f2c82a-4424-4e01-8729-1b6d5ae616ac', '3fda276e-9e5a-4aa4-be63-4cdf173006b0', 'c0e463da-6fee-4fd6-8969-ef7daddf9ac4', '5487dcb4-c8f6-4445-a494-eef5a7c82677', '31df5fcd-9231-4473-a045-c84a27913c7d', '257f853b-7d2b-4c6b-8b5e-9b408e36d8a9', '26a48dcb-1d80-42df-a6e0-297039c00026', '15c355b5-34f5-4271-9a20-fedfe68c0900', '88e4de4a-c958-49c4-834b-c14cee2dacf7', '29051259-3ce9-4e49-8a7b-95129bf61c1e', 'e75a9dac-1339-462c-b61c-0e9f5eef8e2d', '03c2042e-0b88-471f-baa6-cacc26f61da8', '0428feb4-795b-4d1e-8524-29b8a2e0c22c', '48f21408-3e40-471a-ade2-9fd5df8caa2d', '2a33761a-a216-4a12-932b-2aa805cf2d68', 'fd98908d-3fec-4359-94a8-2b3001fde74c', 'd7c0cd9d-57c5-49ee-8bf9-5515d07fa2a2', '3ee7e149-8317-4425-86c9-fbe1237eb304', '4ef675e6-04ce-464f-a210-02b36a09d44c', 'e9652d00-8471-46cc-9866-b9a514bd4b90', 'b7690d8d-a90f-4a6c-940e-2775066ffbbc', '9ac8b6e6-4285-465d-9923-03675c706c19', '8139295e-3e6a-44ec-93a8-26e9b55e58fd', '4b4327ee-8de6-4403-ad81-43225dbd458c', '20623e62-f8cd-4a1d-a167-c161e548f4cc', '1714d096-2d04-40c1-8a90-f09841d59838', '0fed2e95-04b2-481c-81d4-9551abd94741', '5e076fd0-083d-4851-9c50-ef10dd5873cd', 'c8e4a7a8-ed89-4c16-8af8-8c4f52994f0e', '7304256c-78cc-4a40-a781-6b96e89012b4', '9e05469e-2a1f-40b7-a677-1829986e2537', 'b31f8c27-813c-401f-9d87-ee34e5a026ab', 'c634ee84-c979-4b0e-ab45-e16ee134e847', 'c9886952-bf08-4186-909b-65e322866e96', '94213c35-6bb4-4ab4-82ee-425ce3d9b42a', 'd01c15ca-3d2d-41f5-8d63-e180b62f7c8f', 'e1a14099-9eb6-4a15-b347-1b8ca487d8ce', 'ca730a2b-2bc0-464e-91ca-9a6290692590', '12c7f72c-0f82-49a7-a7b1-023d0ec9c908', '5c7df477-fbdc-4850-b51d-62b4222dc095', 'e95028f4-e6f7-40cb-8911-c81ad6274341', '9a435841-9aea-4b08-9a62-90f9cfee3922', '8da52f1c-2c90-46d9-9d61-0f7d6f9082eb', '62737675-b454-4d01-88de-39151f79ab92', '909f365b-e891-452e-9fc6-02cf3581901c', 'afbc8abd-b29a-4b96-9ecf-283a93d46d53', '33027065-3944-4605-bfaa-cddce8df98bd', '7a5cd8a9-693f-4ab2-9269-17aedc43297d', '8f1af2c7-da90-4995-9ab4-925197e311da', 'b5512386-2bf0-4021-baae-02a0304eec45', '43900a6f-f1f0-4ee5-a91a-789e6fb9182e', '559c031e-a9bf-4da3-9542-ae259fc6fb5b', 'a16f2037-7d70-4d5e-8764-8e83bb565506', 'a34a90e5-db8d-4dc9-b5a7-b4d72c980f63', '92bf83e1-cbcd-47b4-a54c-c6731808ac01', 'dc0929a8-55bf-4e8e-9b00-0c6f58b343f4', '2bf3fa0f-f6e8-47de-a85e-7abbfa00475d', '2ce07d32-9c42-4a8a-afdd-7c2d2c630e55', '3c94c416-4a47-4b3b-b03b-fb66843c0075', '42cc5029-d6f9-4d2c-98c8-8688c557d353', 'c7239ad7-9aee-41e8-8498-ff2d28567342', 'bc533a84-f144-476b-ba17-d50c50fa0fba', '1931ed3c-ca89-41eb-8196-bbed5e99da56', '751ec1b0-812b-4880-8654-9451ea1ede40', '0b9d3e98-e0b0-4061-9541-1d48cc74d572', '36321867-0c4d-4033-9c3e-ed5af3017b0e', 'c85b2d6f-d29a-4a65-b0ee-5a3ebada0aee', 'fdf58e49-3aa9-49cf-af82-09d17cdb94e1', 'd97e68db-0eb5-4ccd-8026-7cbb606b2e62', 'c9d2ae7c-9d67-43a1-8357-500b4d2159de', '3ed7bb94-0f07-4035-bf9d-c2110fb1654f', 'eb96b953-e927-4dd8-8ea0-add1e6b0050e', '0a000052-3b4a-4b46-a601-7baf6dd16f29', 'f24392ad-9302-4bd7-b221-4e76ca7d9ba5', 'e47a3d67-ab08-4d69-b8cc-1ae6f7c2b1bf', 'ef597003-d841-4b8d-9743-bb4420b63192', '87d5e828-64ab-438e-9a1c-932b87b94ab7', '1d739360-1cfe-4d19-a208-8b12583e2f76', '45f8a955-97d7-497b-a63c-57a323b1cdb6', '2456508d-e2dc-4544-a1e0-742bd2fabef7', 'aa1edb31-7978-4e41-a423-59ae83add42b', 'fbd81342-edc1-4061-bc9d-e56e5a15da66', '30a3ca0f-6760-4770-a8d4-78554b293f2d']\n"
     ]
    }
   ],
   "source": [
    "ride_ids = generate_uuids(1000)\n",
    "print(ride_ids[:100])"
   ]
  },
  {
   "cell_type": "code",
   "execution_count": null,
   "metadata": {},
   "outputs": [],
   "source": []
  }
 ],
 "metadata": {
  "kernelspec": {
   "display_name": "exp-tracking-homework",
   "language": "python",
   "name": "python3"
  },
  "language_info": {
   "codemirror_mode": {
    "name": "ipython",
    "version": 3
   },
   "file_extension": ".py",
   "mimetype": "text/x-python",
   "name": "python",
   "nbconvert_exporter": "python",
   "pygments_lexer": "ipython3",
   "version": "3.9.16"
  },
  "orig_nbformat": 4
 },
 "nbformat": 4,
 "nbformat_minor": 2
}
